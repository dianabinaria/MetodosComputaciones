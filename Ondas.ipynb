{
 "cells": [
  {
   "cell_type": "code",
   "execution_count": 23,
   "metadata": {
    "collapsed": true
   },
   "outputs": [],
   "source": [
    "import numpy as np\n",
    "import matplotlib.pyplot as plt\n",
    "import pprint\n",
    "import numpy.ma as ma"
   ]
  },
  {
   "cell_type": "code",
   "execution_count": 24,
   "metadata": {
    "collapsed": true
   },
   "outputs": [],
   "source": [
    "#eq de onda en dos dimensiones diferencias finitas\n",
    "#variables\n",
    "puntos=30\n",
    "segundos=60\n",
    "c=1.0\n",
    "\n",
    "#alfa menor o igual a 0.5 estabilidad\n",
    "alfa=0.5\n",
    "\n",
    "# dt\n",
    "dx=1\n",
    "dt=(alfa*dx*dx/c*c)\n",
    "t=int(segundos/dt)\n",
    "\n",
    "#matriz\n",
    "mat=np.ones((puntos,puntos),dtype=float) \n",
    "matnew=np.ones((puntos,puntos),dtype=float)\n",
    "#pprint.pprint(mat[0])\n",
    "#print np.shape(mat[0])\n"
   ]
  },
  {
   "cell_type": "code",
   "execution_count": 27,
   "metadata": {
    "collapsed": true
   },
   "outputs": [],
   "source": [
    "#mascara \n",
    "for j in range(puntos):\n",
    "    for k in range(puntos):\n",
    "        if(j==0 or k==0 or j==puntos-1 or k==puntos-1 or j==int(puntos*2/3)):\n",
    "            mat[j,k]=0\n",
    "        if(j==puntos/3 and k==puntos/2):\n",
    "            mat[j,k]=-0.5\n",
    "        if((k>int((puntos)*3/7)) and (k<=int((puntos)*4/7)) and (j==int(puntos*2/3))):\n",
    "            mat[j,k]=1\n",
    "     "
   ]
  },
  {
   "cell_type": "code",
   "execution_count": 28,
   "metadata": {},
   "outputs": [
    {
     "data": {
      "image/png": "[encoded data removed]",
      "text/plain": [
       "<matplotlib.figure.Figure at 0x7fd61265d4d0>"
      ]
     },
     "metadata": {},
     "output_type": "display_data"
    }
   ],
   "source": [
    "plt.imshow(mat)\n",
    "plt.colorbar()\n",
    "plt.show()\n",
    "#np.shape(mat[0,:,:])"
   ]
  },
  {
   "cell_type": "code",
   "execution_count": 33,
   "metadata": {
    "collapsed": true
   },
   "outputs": [],
   "source": [
    "def primera(u_l_i_j,u_lm1_i_j,u_l_ip1_j,u_l_im1_j,u_l_i_jp1,u_l_i_jm1,alfa):\n",
    "    return 2*u_l_i_j-u_lm1_i_j+alfa**2*(u_l_ip1_j+u_l_im1_j+u_l_i_jp1+u_l_i_jm1-4*u_l_i_j)"
   ]
  },
  {
   "cell_type": "code",
   "execution_count": 34,
   "metadata": {
    "collapsed": true
   },
   "outputs": [],
   "source": [
    "def u1(u_0_i_j,u_0_ip1_j,u_0_im1_j,u_0_i_jp1,u_0_i_jm1,alfa):\n",
    "    return u_0_i_j+0.5*alfa**2*(u_0_ip1_j+u_0_im1_j+u_0_i_jp1+u_0_i_jm1-4*u_0_i_j)"
   ]
  },
  {
   "cell_type": "code",
   "execution_count": 32,
   "metadata": {},
   "outputs": [],
   "source": [
    "u_1 = mat.copy()"
   ]
  },
  {
   "cell_type": "code",
   "execution_count": 35,
   "metadata": {
    "collapsed": true
   },
   "outputs": [],
   "source": [
    "#evolucion de u1\n",
    "for i in range(0,puntos-1):\n",
    "    for j in range(0,puntos-1):\n",
    "        if((i!=0) and (j!=0) and (i!=puntos-1) and (j!=puntos-1) and (i!=int(2/3*puntos))):\n",
    "            u_1[i,j]=u1(mat[i,j],mat[i+1,j],mat[i-1,j],mat[i,j+1],mat[i,j-1],alfa)\n",
    "        if((j>int(puntos*3/7)) and (j<=int(puntos*4/7)) and (i==int(2/3*puntos))):\n",
    "             u_1[i,j]=u1(mat[i,j],mat[i+1,j],mat[i-1,j],mat[i,j+1],mat[i,j-1],alfa)   "
   ]
  },
  {
   "cell_type": "code",
   "execution_count": 40,
   "metadata": {},
   "outputs": [
    {
     "data": {
      "image/png": "[encoded data removed]",
      "text/plain": [
       "<matplotlib.figure.Figure at 0x7fd61246ab90>"
      ]
     },
     "metadata": {},
     "output_type": "display_data"
    }
   ],
   "source": [
    "plt.imshow(u_1)\n",
    "plt.colorbar()\n",
    "plt.show()\n",
    "\n",
    "#upast=np.copy(ut0)\n",
    "#upresent=np.copy(ut1)\n",
    "#ut1 es futuro"
   ]
  },
  {
   "cell_type": "markdown",
   "metadata": {
    "collapsed": true
   },
   "source": [
    "#condicion inicial\n",
    "ut0=np.exp((-(x-0.3)**2)/0.01)\n",
    "#print ut0\n",
    "plt.plot(x,ut0)\n",
    "plt.xlim(0,1)\n",
    "plt.savefig(\"1.png\")\n",
    "plt.close()\n",
    "\n",
    "\n",
    "ut0[0]=0\n",
    "ut0[puntos-1]=0\n",
    "ut1=np.zeros(puntos)\n",
    "ut1[0]=0\n",
    "ut1[puntos-1]=0\n",
    "\n",
    "\n",
    "#primer punto\n",
    "for i in range(1,puntos-1):\n",
    "    ut1[i]=((gamma**2.0)/2.0)*(ut0[i+1]-2.0*ut0[i]+ut0[i-1])+ut0[i]\n",
    "    \n",
    "plt.plot(x,ut1)\n",
    "plt.xlim(0,1)\n",
    "plt.savefig(\"2.png\")\n",
    "plt.close()\n",
    "\n",
    "\n",
    "upast=np.copy(ut0)\n",
    "upresent=np.copy(ut1)\n",
    "#ut1 es futuro\n"
   ]
  },
  {
   "cell_type": "markdown",
   "metadata": {
    "collapsed": true
   },
   "source": [
    "ntime=350\n",
    "# movimiento\n",
    "for j in range(ntime):\n",
    "    for i in range(1,puntos-1):\n",
    "        ut1[i]=(2.0*(1.0-gamma**2))*upresent[i]-upast[i]+(gamma**2)*(upresent[i+1]+upresent[i-1])\n",
    "\n",
    "    upast=np.copy(upresent)\n",
    "    upresent=np.copy(ut1)\n",
    "\n",
    "\n",
    "plt.plot(x,ut0)\n",
    "plt.plot(x,upresent)\n",
    "plt.savefig(\"moviendose.png\")\n",
    "plt.close()"
   ]
  },
  {
   "cell_type": "code",
   "execution_count": null,
   "metadata": {
    "collapsed": true
   },
   "outputs": [],
   "source": []
  }
 ],
 "metadata": {
  "kernelspec": {
   "display_name": "Python 2",
   "language": "python",
   "name": "python2"
  },
  "language_info": {
   "codemirror_mode": {
    "name": "ipython",
    "version": 2
   },
   "file_extension": ".py",
   "mimetype": "text/x-python",
   "name": "python",
   "nbconvert_exporter": "python",
   "pygments_lexer": "ipython2",
   "version": "2.7.12"
  }
 },
 "nbformat": 4,
 "nbformat_minor": 2
}
