{
 "cells": [
  {
   "cell_type": "code",
   "execution_count": 1,
   "metadata": {
    "collapsed": true
   },
   "outputs": [],
   "source": [
    "import numpy as np\n",
    "import matplotlib.pyplot as plt\n"
   ]
  },
  {
   "cell_type": "code",
   "execution_count": 2,
   "metadata": {
    "collapsed": true
   },
   "outputs": [],
   "source": [
    "#eq de onda en una dimension diferencias finitas\n",
    "puntos=1000\n",
    "x=np.linspace(0,1,puntos)\n",
    "dt=0.0005\n",
    "dx=x[1]-x[0]\n",
    "c=1.0\n",
    "gamma=float((dt*c)/dx)\n",
    "\n"
   ]
  },
  {
   "cell_type": "code",
   "execution_count": 3,
   "metadata": {
    "collapsed": true
   },
   "outputs": [],
   "source": [
    "#condicion inicial\n",
    "ut0=np.exp((-(x-0.3)**2)/0.01)\n",
    "#print ut0\n",
    "plt.plot(x,ut0)\n",
    "plt.xlim(0,1)\n",
    "plt.savefig(\"1.png\")\n",
    "plt.close()\n",
    "\n",
    "\n",
    "ut0[0]=0\n",
    "ut0[puntos-1]=0\n",
    "ut1=np.zeros(puntos)\n",
    "ut1[0]=0\n",
    "ut1[puntos-1]=0\n",
    "\n",
    "\n",
    "#primer punto\n",
    "for i in range(1,puntos-1):\n",
    "    ut1[i]=((gamma**2.0)/2.0)*(ut0[i+1]-2.0*ut0[i]+ut0[i-1])+ut0[i]\n",
    "    \n",
    "plt.plot(x,ut1)\n",
    "plt.xlim(0,1)\n",
    "plt.savefig(\"2.png\")\n",
    "plt.close()\n",
    "\n",
    "\n",
    "upast=np.copy(ut0)\n",
    "upresent=np.copy(ut1)\n",
    "#ut1 es futuro\n"
   ]
  },
  {
   "cell_type": "code",
   "execution_count": 4,
   "metadata": {
    "collapsed": true
   },
   "outputs": [],
   "source": [
    "ntime=350\n",
    "# movimiento\n",
    "for j in range(ntime):\n",
    "    for i in range(1,puntos-1):\n",
    "        ut1[i]=(2.0*(1.0-gamma**2))*upresent[i]-upast[i]+(gamma**2)*(upresent[i+1]+upresent[i-1])\n",
    "\n",
    "    upast=np.copy(upresent)\n",
    "    upresent=np.copy(ut1)\n",
    "\n",
    "\n",
    "plt.plot(x,ut0)\n",
    "plt.plot(x,upresent)\n",
    "plt.savefig(\"moviendose.png\")\n",
    "plt.close()"
   ]
  },
  {
   "cell_type": "code",
   "execution_count": null,
   "metadata": {
    "collapsed": true
   },
   "outputs": [],
   "source": []
  }
 ],
 "metadata": {
  "kernelspec": {
   "display_name": "Python 2",
   "language": "python",
   "name": "python2"
  },
  "language_info": {
   "codemirror_mode": {
    "name": "ipython",
    "version": 2
   },
   "file_extension": ".py",
   "mimetype": "text/x-python",
   "name": "python",
   "nbconvert_exporter": "python",
   "pygments_lexer": "ipython2",
   "version": "2.7.12"
  }
 },
 "nbformat": 4,
 "nbformat_minor": 2
}
