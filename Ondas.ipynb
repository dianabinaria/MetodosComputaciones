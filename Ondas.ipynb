{
 "cells": [
  {
   "cell_type": "code",
   "execution_count": 65,
   "metadata": {
    "collapsed": true
   },
   "outputs": [],
   "source": [
    "import numpy as np\n",
    "import matplotlib.pyplot as plt\n",
    "import pprint\n",
    "import numpy.ma as ma"
   ]
  },
  {
   "cell_type": "code",
   "execution_count": 66,
   "metadata": {},
   "outputs": [],
   "source": [
    "#eq de onda en dos dimensiones diferencias finitas\n",
    "#variables\n",
    "puntos=300\n",
    "segundos=60\n",
    "c=1.0\n",
    "\n",
    "x=30\n",
    "y=2\n",
    "\n",
    "#alfa menor o igual a 0.5 estabilidad\n",
    "alfa=0.5\n",
    "\n",
    "# dt\n",
    "dx=x/puntos-1\n",
    "dy=y/puntos-1\n",
    "dtalcuadrado=(alfa*dx*dx/c*c)\n",
    "t=int(segundos/dt)\n",
    "recorrido=[]\n",
    "#matriz\n",
    "mat=np.zeros((puntos,puntos),dtype=float) \n",
    "matnew=np.zeros((puntos,puntos),dtype=float)\n",
    "#pprint.pprint(mat[0])\n",
    "#print np.shape(mat[0])\n"
   ]
  },
  {
   "cell_type": "code",
   "execution_count": 67,
   "metadata": {},
   "outputs": [],
   "source": [
    "#mascara \n",
    "for i  in range(puntos):\n",
    "    for j in range(puntos):\n",
    "        if(i==0 or j==0 or i==puntos-1 or j==puntos-1 or i==int(puntos*2/3)):\n",
    "            mat[i,j]=0\n",
    "        if(i==puntos/3 and j==puntos/2):\n",
    "            mat[i,j]=-0.5\n",
    "        if((j>int((puntos)*3/7)) and (j<=int((puntos)*4/7)) and (i==int(puntos*2/3))):\n",
    "            mat[i,j]=0"
   ]
  },
  {
   "cell_type": "code",
   "execution_count": 68,
   "metadata": {
    "collapsed": true
   },
   "outputs": [],
   "source": [
    "def ite(u_l_i_j,u_lm1_i_j,u_l_ip1_j,u_l_im1_j,u_l_i_jp1,u_l_i_jm1,alfa):\n",
    "    return 2*u_l_i_j-u_lm1_i_j+alfa**2*(u_l_ip1_j+u_l_im1_j+u_l_i_jp1+u_l_i_jm1-4*u_l_i_j)"
   ]
  },
  {
   "cell_type": "code",
   "execution_count": 69,
   "metadata": {
    "collapsed": true
   },
   "outputs": [],
   "source": [
    "def u1(u_0_i_j,u_0_ip1_j,u_0_im1_j,u_0_i_jp1,u_0_i_jm1,alfa):\n",
    "    return u_0_i_j+0.5*alfa**2*(u_0_ip1_j+u_0_im1_j+u_0_i_jp1+u_0_i_jm1-4*u_0_i_j)"
   ]
  },
  {
   "cell_type": "code",
   "execution_count": 73,
   "metadata": {},
   "outputs": [],
   "source": [
    "#evolucion de u1\n",
    "#u_1 = mat.copy()\n",
    "u_1=np.copy(mat)\n",
    "\n",
    "def transformacion(tiempo):\n",
    "    for i in range(0,puntos-1):\n",
    "        for j in range(0,puntos-1):\n",
    "            if((i!=0) and (j!=0) and (i!=puntos-1) and (j!=puntos-1) and (i!=int(2/3*puntos))):\n",
    "                u_1[i,j]=u1(mat[i,j],mat[i+1,j],mat[i-1,j],mat[i,j+1],mat[i,j-1],alfa)\n",
    "            if((j>int(puntos*3/7)) and (j<=int(puntos*4/7)) and (i==int(2/3*puntos))):\n",
    "                u_1[i,j]=u1(mat[i,j],mat[i+1,j],mat[i-1,j],mat[i,j+1],mat[i,j-1],alfa)  \n",
    "\n",
    "    upast=np.copy(mat)\n",
    "    upresent=np.copy(u_1)\n",
    "    #ut1 es futuro\n",
    "    recorrido.append(u_1)\n",
    "\n",
    "    for k in range(t):\n",
    "        for i in range(1,puntos-1):\n",
    "            for j in range (1,puntos-1):\n",
    "                if((i!=0) and (j!=0) and (i!=puntos-1) and (j!=puntos-1) and (i!=int(2/3*puntos))):\n",
    "                    u_1[i,j]=ite(upresent[i,j],upast[i,j],upresent[i+1,j],upresent[i-1,j],upresent[i,j+1],upresent[i,j-1],alfa)\n",
    "                if((j>int(puntos*3/7)) and (j<=int(puntos*4/7)) and (i==int(2/3*puntos))):\n",
    "                    u_1[i,j]=ite(upresent[i,j],upast[i,j],upresent[i+1,j],upresent[i-1,j],upresent[i,j+1],upresent[i,j-1],alfa)        \n",
    "        upast=np.copy(upresent)\n",
    "        upresent=np.copy(u_1)\n",
    "        recorrido.append(u_1)\n",
    "    return (u_1,recorrido)\n"
   ]
  },
  {
   "cell_type": "code",
   "execution_count": 75,
   "metadata": {},
   "outputs": [
    {
     "ename": "TypeError",
     "evalue": "'NoneType' object has no attribute '__getitem__'",
     "output_type": "error",
     "traceback": [
      "\u001b[0;31m---------------------------------------------------------------------------\u001b[0m",
      "\u001b[0;31mTypeError\u001b[0m                                 Traceback (most recent call last)",
      "\u001b[0;32m<ipython-input-75-9a228923f0fd>\u001b[0m in \u001b[0;36m<module>\u001b[0;34m()\u001b[0m\n\u001b[0;32m----> 1\u001b[0;31m \u001b[0;32mprint\u001b[0m \u001b[0mtranformacion\u001b[0m\u001b[0;34m(\u001b[0m\u001b[0;36m1200\u001b[0m\u001b[0;34m)\u001b[0m\u001b[0;34m[\u001b[0m\u001b[0;36m1\u001b[0m\u001b[0;34m]\u001b[0m\u001b[0;34m\u001b[0m\u001b[0m\n\u001b[0m",
      "\u001b[0;31mTypeError\u001b[0m: 'NoneType' object has no attribute '__getitem__'"
     ]
    }
   ],
   "source": [
    "print tranformacion(1200)[1]"
   ]
  },
  {
   "cell_type": "code",
   "execution_count": 71,
   "metadata": {},
   "outputs": [
    {
     "ename": "IndexError",
     "evalue": "list index out of range",
     "output_type": "error",
     "traceback": [
      "\u001b[0;31m---------------------------------------------------------------------------\u001b[0m",
      "\u001b[0;31mIndexError\u001b[0m                                Traceback (most recent call last)",
      "\u001b[0;32m<ipython-input-71-34f872827a9f>\u001b[0m in \u001b[0;36m<module>\u001b[0;34m()\u001b[0m\n\u001b[1;32m      1\u001b[0m \u001b[0manim\u001b[0m\u001b[0;34m=\u001b[0m\u001b[0mtransformacion\u001b[0m\u001b[0;34m(\u001b[0m\u001b[0;36m20\u001b[0m\u001b[0;34m)\u001b[0m\u001b[0;34m[\u001b[0m\u001b[0;36m1\u001b[0m\u001b[0;34m]\u001b[0m\u001b[0;34m\u001b[0m\u001b[0m\n\u001b[1;32m      2\u001b[0m \u001b[0mfigura\u001b[0m\u001b[0;34m=\u001b[0m\u001b[0mplt\u001b[0m\u001b[0;34m.\u001b[0m\u001b[0mfigure\u001b[0m\u001b[0;34m(\u001b[0m\u001b[0mfigsize\u001b[0m\u001b[0;34m=\u001b[0m\u001b[0;34m(\u001b[0m\u001b[0;36m10\u001b[0m\u001b[0;34m,\u001b[0m\u001b[0;36m10\u001b[0m\u001b[0;34m)\u001b[0m\u001b[0;34m)\u001b[0m\u001b[0;34m\u001b[0m\u001b[0m\n\u001b[0;32m----> 3\u001b[0;31m \u001b[0mp\u001b[0m\u001b[0;34m=\u001b[0m\u001b[0mplt\u001b[0m\u001b[0;34m.\u001b[0m\u001b[0mimshow\u001b[0m\u001b[0;34m(\u001b[0m\u001b[0mnp\u001b[0m\u001b[0;34m.\u001b[0m\u001b[0mabs\u001b[0m\u001b[0;34m(\u001b[0m\u001b[0manim\u001b[0m\u001b[0;34m[\u001b[0m\u001b[0mi\u001b[0m\u001b[0;34m]\u001b[0m\u001b[0;34m)\u001b[0m\u001b[0;34m,\u001b[0m\u001b[0mcmap\u001b[0m\u001b[0;34m=\u001b[0m\u001b[0;34m\"flag\"\u001b[0m\u001b[0;34m,\u001b[0m\u001b[0mextent\u001b[0m\u001b[0;34m=\u001b[0m\u001b[0;34m(\u001b[0m\u001b[0mx\u001b[0m\u001b[0;34m+\u001b[0m\u001b[0mdx\u001b[0m\u001b[0;34m,\u001b[0m\u001b[0mx\u001b[0m\u001b[0;34m-\u001b[0m\u001b[0mdx\u001b[0m\u001b[0;34m,\u001b[0m\u001b[0my\u001b[0m\u001b[0;34m+\u001b[0m\u001b[0mdy\u001b[0m\u001b[0;34m,\u001b[0m\u001b[0my\u001b[0m\u001b[0;34m-\u001b[0m\u001b[0mdy\u001b[0m\u001b[0;34m)\u001b[0m\u001b[0;34m)\u001b[0m\u001b[0;34m\u001b[0m\u001b[0m\n\u001b[0m\u001b[1;32m      4\u001b[0m \u001b[0mplt\u001b[0m\u001b[0;34m.\u001b[0m\u001b[0mcolorbar\u001b[0m\u001b[0;34m(\u001b[0m\u001b[0;34m)\u001b[0m\u001b[0;34m\u001b[0m\u001b[0m\n\u001b[1;32m      5\u001b[0m \u001b[0;34m\u001b[0m\u001b[0m\n",
      "\u001b[0;31mIndexError\u001b[0m: list index out of range"
     ]
    }
   ],
   "source": [
    "anim=transformacion(20)[1]\n",
    "figura=plt.figure(figsize=(10,10))\n",
    "p=plt.imshow(np.abs(anim[i]),cmap=\"flag\",extent=(x+dx,x-dx,y+dy,y-dy))\n",
    "plt.colorbar()\n",
    "\n",
    "def animacion(i):\n",
    "    p.set_array(abs(anim[i]))\n",
    "    return p,\n",
    "an= animation.FuncAnimation(figura,animation,np.arange(1,len(anim)), interval=20, blit=False)\n",
    "plt.show()"
   ]
  },
  {
   "cell_type": "markdown",
   "metadata": {
    "collapsed": true
   },
   "source": [
    "#condicion inicial\n",
    "ut0=np.exp((-(x-0.3)**2)/0.01)\n",
    "#print ut0\n",
    "plt.plot(x,ut0)\n",
    "plt.xlim(0,1)\n",
    "plt.savefig(\"1.png\")\n",
    "plt.close()\n",
    "\n",
    "\n",
    "ut0[0]=0\n",
    "ut0[puntos-1]=0\n",
    "ut1=np.zeros(puntos)\n",
    "ut1[0]=0\n",
    "ut1[puntos-1]=0\n",
    "\n",
    "\n",
    "#primer punto\n",
    "for i in range(1,puntos-1):\n",
    "    ut1[i]=((gamma**2.0)/2.0)*(ut0[i+1]-2.0*ut0[i]+ut0[i-1])+ut0[i]\n",
    "    \n",
    "plt.plot(x,ut1)\n",
    "plt.xlim(0,1)\n",
    "plt.savefig(\"2.png\")\n",
    "plt.close()\n",
    "\n",
    "\n",
    "upast=np.copy(ut0)\n",
    "upresent=np.copy(ut1)\n",
    "#ut1 es futuro\n"
   ]
  },
  {
   "cell_type": "markdown",
   "metadata": {
    "collapsed": true
   },
   "source": [
    "ntime=350\n",
    "# movimiento\n",
    "for j in range(ntime):\n",
    "    for i in range(1,puntos-1):\n",
    "        ut1[i]=(2.0*(1.0-gamma**2))*upresent[i]-upast[i]+(gamma**2)*(upresent[i+1]+upresent[i-1])\n",
    "\n",
    "    upast=np.copy(upresent)\n",
    "    upresent=np.copy(ut1)\n",
    "\n",
    "\n",
    "plt.plot(x,ut0)\n",
    "plt.plot(x,upresent)\n",
    "plt.savefig(\"moviendose.png\")\n",
    "plt.close()"
   ]
  },
  {
   "cell_type": "markdown",
   "metadata": {
    "collapsed": true
   },
   "source": [
    "## JOA\n"
   ]
  },
  {
   "cell_type": "code",
   "execution_count": null,
   "metadata": {
    "collapsed": true
   },
   "outputs": [],
   "source": []
  }
 ],
 "metadata": {
  "kernelspec": {
   "display_name": "Python 2",
   "language": "python",
   "name": "python2"
  },
  "language_info": {
   "codemirror_mode": {
    "name": "ipython",
    "version": 2
   },
   "file_extension": ".py",
   "mimetype": "text/x-python",
   "name": "python",
   "nbconvert_exporter": "python",
   "pygments_lexer": "ipython2",
   "version": "2.7.12"
  }
 },
 "nbformat": 4,
 "nbformat_minor": 2
}
